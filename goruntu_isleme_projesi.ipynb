{
  "cells": [
    {
      "cell_type": "markdown",
      "metadata": {
        "id": "view-in-github",
        "colab_type": "text"
      },
      "source": [
        "<a href=\"https://colab.research.google.com/github/yigitdede/Goruntu-Isleme-Projesi/blob/main/goruntu_isleme_projesi.ipynb\" target=\"_parent\"><img src=\"https://colab.research.google.com/assets/colab-badge.svg\" alt=\"Open In Colab\"/></a>"
      ]
    },
    {
      "cell_type": "markdown",
      "source": [
        "**GÖRÜNTÜ İŞLEME PROJESİ**\n",
        "\n",
        "\n",
        "Proje kapsamında:\n",
        "\n",
        "Hayvan türleri: Leopar, Dolphin, Aslan, Tilki, Moose, Tavşan, At, Sincap, Yarasa, ve Goril gibi 10 farklı hayvan türü sınıflandırılmaktadır.\n",
        "\n",
        "Veri Seti: Bu proje, hayvan görselleri içeren geniş bir veri setini kullanarak, her bir görseli etiketleyerek modelin doğruluğunu artırmayı hedeflemiştir.\n",
        "\n",
        "Görüntü İşleme Teknikleri: Görüntülerin parlaklık artırma, renk sabitliği uygulama gibi manipülasyonlarla modellenin dayanıklılığı test edilmiştir.\n",
        "\n",
        "Proje, dört aşamadan oluşmaktadır:\n",
        "\n",
        "1-Model Kurulumu ve Eğitimi: Bir CNN modeli kurarak, eğitilecek ve test edilecektir.\n",
        "\n",
        "2-Işık Manipülasyonu ile Test: Modelin doğruluğunu değerlendirmek için, test resimlerini farklı ışık koşulları altında manipüle edeceğiz. Bu, modelin ne kadar hassas olduğunu anlamamıza yardımcı olacak.\n",
        "\n",
        "3-Renk Sabitliği Algoritması: Işık manipülasyonu sonucu skorlar düşerse, renk sabitliği algoritması kullanarak bu düşüşü minimize etmeye çalışacağız. Sonrasında modelin başarısını tekrar test edeceğiz.\n",
        "\n",
        "4-Test Sonuçları ve Raporlama: Üç farklı senaryo için test başarıları karşılaştırılacak ve raporlanarak çözüm önerileri sunulacaktır.\n"
      ],
      "metadata": {
        "id": "Tk7Rl9eVDZZv"
      }
    },
    {
      "cell_type": "markdown",
      "source": [
        "# Verisetinin ve Gerekli Kütüphanelerin Yüklenmesi"
      ],
      "metadata": {
        "id": "5x3qpiCsVLS7"
      }
    },
    {
      "source": [
        "import kagglehub\n",
        "rrebirrth_animals_with_attributes_2_path = kagglehub.dataset_download('rrebirrth/animals-with-attributes-2')\n",
        "\n",
        "print('Data source import complete.')"
      ],
      "metadata": {
        "id": "MDGKTUZmCtsD",
        "outputId": "1fd7ff21-943d-43ab-c4f9-cebac0fe23f6",
        "colab": {
          "base_uri": "https://localhost:8080/"
        }
      },
      "cell_type": "code",
      "outputs": [
        {
          "output_type": "stream",
          "name": "stdout",
          "text": [
            "Warning: Looks like you're using an outdated `kagglehub` version (installed: 0.3.5), please consider upgrading to the latest version (0.3.6).\n",
            "Downloading from https://www.kaggle.com/api/v1/datasets/download/rrebirrth/animals-with-attributes-2?dataset_version_number=1...\n"
          ]
        },
        {
          "output_type": "stream",
          "name": "stderr",
          "text": [
            "100%|██████████| 13.0G/13.0G [02:23<00:00, 97.2MB/s]"
          ]
        },
        {
          "output_type": "stream",
          "name": "stdout",
          "text": [
            "Extracting files...\n"
          ]
        },
        {
          "output_type": "stream",
          "name": "stderr",
          "text": [
            "\n"
          ]
        },
        {
          "output_type": "stream",
          "name": "stdout",
          "text": [
            "Data source import complete.\n"
          ]
        }
      ],
      "execution_count": null
    },
    {
      "cell_type": "markdown",
      "source": [
        "Bu adımda, görselleri yükleyip uygun şekilde etiketliyoruz, böylece modelin eğitiminde kullanılacak hale getiriyoruz. 🚀\n",
        "\n",
        "📌 İşlemler:\n",
        "\n",
        "Görsel Yükleme: cv2.imread() ile her bir sınıfın görselleri okunur. 📂\n",
        "Normalizasyon: Görseller, modelin daha verimli öğrenmesi için 0-1 aralığına normalleştirilir (img_normalized = img_resized / 255.0)\n",
        "\n",
        "Etiketleme: Her görsel, ait olduğu sınıfın adı ile etiketlenir. 🏷️\n"
      ],
      "metadata": {
        "id": "Kk8kUTpuD-3P"
      }
    },
    {
      "cell_type": "code",
      "source": [
        "import cv2\n",
        "import numpy as np\n",
        "from sklearn.model_selection import train_test_split\n",
        "from sklearn.preprocessing import LabelEncoder\n",
        "from tensorflow.keras.preprocessing.image import ImageDataGenerator\n",
        "from tensorflow.keras import models, layers\n",
        "from tensorflow.keras.optimizers import Adam\n",
        "from tensorflow.keras import models, layers\n",
        "import matplotlib.pyplot as plt\n",
        "import os\n",
        "from tensorflow.keras.callbacks import Callback, ModelCheckpoint, EarlyStopping"
      ],
      "metadata": {
        "id": "22CNBBYyXI2N"
      },
      "execution_count": null,
      "outputs": []
    },
    {
      "metadata": {
        "_uuid": "8f2839f25d086af736a60e9eeb907d3b93b6e0e5",
        "_cell_guid": "b1076dfc-b9ad-4769-8c92-a6c4dae69d19",
        "trusted": true,
        "id": "5FOPNGRFCtsD",
        "outputId": "0dc047b4-be33-424c-cd33-7862b6d3ea8d",
        "colab": {
          "base_uri": "https://localhost:8080/"
        }
      },
      "cell_type": "code",
      "source": [
        "# Initialize the dictionary to hold paths for each animal\n",
        "image_paths = {}\n",
        "\n",
        "# Base directory for your dataset\n",
        "base_path = \"/root/.cache/kagglehub/datasets/rrebirrth/animals-with-attributes-2/versions/1/Animals_with_Attributes2/JPEGImages/\"\n",
        "\n",
        "# List of animals to search for\n",
        "animals = [\"collie\", \"dolphin\", \"elephant\", \"fox\", \"moose\", \"rabbit\", \"sheep\", \"squirrel\", \"giant+panda\", \"polar+bear\"]\n",
        "\n",
        "# Traverse the directory structure\n",
        "for dirname, _, filenames in os.walk(base_path):\n",
        "    for animal in animals:\n",
        "        # Check if the current directory contains the animal's name\n",
        "        if animal in dirname:\n",
        "            # Initialize the list if the animal is encountered for the first time\n",
        "            if animal not in image_paths:\n",
        "                image_paths[animal] = []\n",
        "            # Add all image paths for the current animal\n",
        "            for filename in filenames:\n",
        "                image_paths[animal].append(os.path.join(dirname, filename))\n",
        "\n",
        "# Print the paths for verification\n",
        "for animal, paths in image_paths.items():\n",
        "    print(f\"{animal}: {len(paths)} images\")\n"
      ],
      "execution_count": null,
      "outputs": [
        {
          "output_type": "stream",
          "name": "stdout",
          "text": [
            "giant+panda: 874 images\n",
            "polar+bear: 868 images\n",
            "rabbit: 1088 images\n",
            "elephant: 1038 images\n",
            "collie: 1028 images\n",
            "squirrel: 1200 images\n",
            "sheep: 1420 images\n",
            "fox: 664 images\n",
            "moose: 704 images\n",
            "dolphin: 946 images\n"
          ]
        }
      ]
    },
    {
      "cell_type": "markdown",
      "source": [
        "**Bu kod, verisetimizdeki her hayvan türü için resimlerin bulunduğu dizinleri tarar, bu dizinlerden tüm resim dosyalarının yollarını toplar ve her hayvan türü için kaç resim bulunduğunu çıktı olarak verir.**"
      ],
      "metadata": {
        "id": "IA1dbO4BEebx"
      }
    },
    {
      "cell_type": "code",
      "source": [
        "for animal, paths in image_paths.items():\n",
        "    print(f\"{animal}: {paths}\")"
      ],
      "metadata": {
        "id": "mWZAt6NgGC_t"
      },
      "execution_count": null,
      "outputs": []
    },
    {
      "cell_type": "markdown",
      "source": [
        "**Bu kod, her hayvan türü için bulunan tüm resim dosyalarının yollarını yazdırır.**"
      ],
      "metadata": {
        "id": "aHiICxuYFNfQ"
      }
    },
    {
      "cell_type": "markdown",
      "source": [
        "# Sınıfların belirlenmesi ve Bazı düzenlemeler"
      ],
      "metadata": {
        "id": "ejAaY1x5Vkex"
      }
    },
    {
      "cell_type": "code",
      "source": [
        "\n",
        "# Sınıflar\n",
        "animals = [\"collie\", \"dolphin\", \"elephant\", \"fox\", \"moose\", \"rabbit\", \"sheep\", \"squirrel\", \"giant+panda\", \"polar+bear\"]\n",
        "\n",
        "# Resimlerin kopyalanacağı ve işleneceği dizin\n",
        "base_path = \"/root/.cache/kagglehub/datasets/rrebirrth/animals-with-attributes-2/versions/1/Animals_with_Attributes2/JPEGImages\"\n",
        "image_size = (64, 64)  # Hedef boyut\n",
        "\n",
        "# Resimleri ve etiketleri tutacağımız listeler\n",
        "images = []\n",
        "labels = []\n",
        "\n",
        "\n"
      ],
      "metadata": {
        "id": "3eVezqGJde92"
      },
      "execution_count": null,
      "outputs": []
    },
    {
      "cell_type": "markdown",
      "source": [
        "**Bu kodda ise, ilk olarak gerekli kütüphaneleri tanımladıktan sonra  hayvan sınıflarına ait resimlerin yüklenmesi, işlenmesi ve etiketlenmesi için temel bir yapıyı hazırlamaktadır. Amaç, belirli bir dizinde yer alan resimleri yükleyip, her birini belirli sınıflara (örneğin, \"collie\", \"elephant\" gibi) atamaktır.\n",
        "Burada kullanacağımız veri boyutunu eğitim yaparken fazla bellek tüketmesin diye (64,64) seçtik.**"
      ],
      "metadata": {
        "id": "funib_4RFoFX"
      }
    },
    {
      "cell_type": "markdown",
      "source": [
        "*Bu yapı, daha sonra resimlerin okunup yeniden boyutlandırılacağı ve her birine doğru sınıf etiketinin verileceği bir işlem akışına olanak tanır.*"
      ],
      "metadata": {
        "id": "Evr91SRwGFiq"
      }
    },
    {
      "cell_type": "code",
      "source": [
        "# Resimleri yükleme ve hazırlama\n",
        "for animal in animals:\n",
        "    animal_path = os.path.join(base_path, animal)\n",
        "\n",
        "    if os.path.exists(animal_path):\n",
        "        # İlk 650 resmi al\n",
        "        animal_images = os.listdir(animal_path)[:650]\n",
        "\n",
        "        for img_name in animal_images:\n",
        "            img_path = os.path.join(animal_path, img_name)\n",
        "\n",
        "            # Resmi okuma\n",
        "            img = cv2.imread(img_path)\n",
        "\n",
        "            if img is not None:\n",
        "                # Resmi yeniden boyutlandırma\n",
        "                img_resized = cv2.resize(img, image_size)\n",
        "\n",
        "                # Normalize etme\n",
        "                img_normalized = img_resized / 255.0\n",
        "\n",
        "                # Resmi ve etiketini listeye ekle\n",
        "                images.append(img_normalized)\n",
        "                labels.append(animal)"
      ],
      "metadata": {
        "id": "CHIbg8xqdqnF"
      },
      "execution_count": null,
      "outputs": []
    },
    {
      "cell_type": "markdown",
      "source": [
        "**Hayvan Türlerinin Belirlenmesi**:\n",
        "\n",
        "Animals listesi oluşturularak sınıflandırılacak hayvan türleri belirlenmiştir.\n",
        "\n",
        "**Dizin Yolu Oluşturulması**:\n",
        "\n",
        "Verilerin bulunduğu dizin yolu base_path olarak tanımlanmıştır.\n",
        "\n",
        "**Hayvan Resimlerinin Seçilmesi:**\n",
        "\n",
        "Her hayvan için, dizindeki ilk 650 resim seçilmiştir.\n",
        "\n",
        "**Resimlerin Yüklenmesi:**\n",
        "\n",
        "cv2.imread() kullanılarak resimler yüklenmiştir.\n",
        "\n",
        "**Resimlerin Yeniden Boyutlandırılması:**\n",
        "\n",
        "Yüklenen her resim, cv2.resize() ile hedef boyuta (64x64) yeniden boyutlandırılmıştır.\n",
        "\n",
        "**Resimlerin Normalize Edilmesi:**\n",
        "\n",
        "Resimler, her bir piksel değeri 255'e bölünerek normalize edilmiştir.\n",
        "\n",
        "**Veri Listelerine Ekleme:**\n",
        "\n",
        "Her resim ve ilgili etiketi (animal) sırasıyla images ve labels listelerine eklenmiştir.\n"
      ],
      "metadata": {
        "id": "iAb8VTBZGT7L"
      }
    },
    {
      "cell_type": "markdown",
      "source": [
        "**Bu sayede verilerimiz eğitime hazır hale gelmiştir.**"
      ],
      "metadata": {
        "id": "V72AM-zkG_zP"
      }
    },
    {
      "cell_type": "code",
      "source": [
        "# Veriyi numpy array'ine dönüştürme\n",
        "X = np.array(images)\n",
        "y = np.array(labels)\n",
        "\n",
        "# Etiketleri sayısal hale getirme\n",
        "label_encoder = LabelEncoder()\n",
        "y_encoded = label_encoder.fit_transform(y)\n",
        "\n",
        "# Eğitim ve test verilerine ayırma\n",
        "X_train, X_test, y_train, y_test = train_test_split(X, y_encoded, test_size=0.2, random_state=42)\n",
        "\n",
        "# Veriyi kontrol etme\n",
        "print(f\"Eğitim veri seti boyutu: {X_train.shape}\")\n",
        "print(f\"Test veri seti boyutu: {X_test.shape}\")\n"
      ],
      "metadata": {
        "id": "3sNRRDWSdspF",
        "outputId": "d0208dd9-8a25-45d7-8090-2f952d1d0c4a",
        "colab": {
          "base_uri": "https://localhost:8080/"
        }
      },
      "execution_count": null,
      "outputs": [
        {
          "output_type": "stream",
          "name": "stdout",
          "text": [
            "Eğitim veri seti boyutu: (5200, 64, 64, 3)\n",
            "Test veri seti boyutu: (1300, 64, 64, 3)\n"
          ]
        }
      ]
    },
    {
      "cell_type": "markdown",
      "source": [
        "**Yukarda,verileri test ve eğitim olmak üzere 2 'ye ayırıyoruz.**\n",
        "\n",
        "**Bu ayırma işlemi, modelin genelleme yeteneğini artırmak ve aşırı öğrenmeyi (overfitting) engellemek için gereklidir.**\n",
        "\n",
        " **Eğitim verisi, modelin öğrenmesini sağlar, test verisi ise modelin görmediği verilerle ne kadar iyi performans gösterdiğini test etmek için kullanılır.**\n",
        "\n",
        "  **Bu şekilde, modelin gerçek dünya verisi üzerinde nasıl performans göstereceği hakkında daha doğru bir değerlendirme yapabiliriz.**\n",
        "  \n",
        "   **Bu işlem, modelin daha güvenilir ve sağlam olmasına yardımcı olur.**"
      ],
      "metadata": {
        "id": "sZjZJGvrHXSf"
      }
    },
    {
      "cell_type": "markdown",
      "source": [
        "#Veri Artırma ve Eğitim/Test Jeneratörleri"
      ],
      "metadata": {
        "id": "sNXFA6HhH4PY"
      }
    },
    {
      "cell_type": "markdown",
      "source": [
        "**Veri Artırma (Augmentation)**\n",
        "\n",
        "Eğitim Verisi: train_datagen ile veri artırma yapılır. Bu işlem, modelin genelleme kabiliyetini artırmak ve aşırı öğrenmeyi engellemek amacıyla yapılır. Resimlerin dönmesi, kayması, kırpılması, yakınlaştırılması gibi çeşitli manipülasyonlarla veri çeşitlendirilir.\n",
        "Test Verisi: test_datagen sadece normalizasyon işlemi uygular, çünkü test verisi üzerinde eğitim yapılmaz, yalnızca değerlendirme yapılır.\n",
        "\n",
        "**Eğitim ve Test Veri Jeneratörleri**\n",
        "\n",
        "train_generator ve validation_generator oluşturulmuş ve batch size 32 olarak ayarlanmıştır. Bu jeneratörler, eğitim ve doğrulama verileri üzerinde sırasıyla veri artırma ve normalizasyon işlemleri yaparak modelin öğrenmesi için uygun veri akışını sağlar."
      ],
      "metadata": {
        "id": "ZKuKpuvbIKqp"
      }
    },
    {
      "cell_type": "code",
      "source": [
        "# Veri artırma (augmentation) işlemi\n",
        "train_datagen = ImageDataGenerator(\n",
        "    rescale=1./255,\n",
        "    rotation_range=30,\n",
        "    width_shift_range=0.2,\n",
        "    height_shift_range=0.2,\n",
        "    shear_range=0.2,\n",
        "    zoom_range=0.2,\n",
        "    horizontal_flip=True,\n",
        "    fill_mode='nearest'\n",
        ")\n",
        "\n",
        "\n",
        "test_datagen = ImageDataGenerator(rescale=1./255)  # Sadece normalize et\n",
        "# Eğitim ve test veri jeneratörleri\n",
        "train_generator = train_datagen.flow(X_train, y_train, batch_size=32)\n",
        "validation_generator = test_datagen.flow(X_test, y_test, batch_size=32)"
      ],
      "metadata": {
        "id": "dIoqlhK5d1Gr"
      },
      "execution_count": null,
      "outputs": []
    },
    {
      "cell_type": "markdown",
      "source": [
        "# CNN MODELİNİN KURULMASI #"
      ],
      "metadata": {
        "id": "JXr_DqItJsFz"
      }
    },
    {
      "cell_type": "markdown",
      "source": [
        "**Modelin Yapısı ve Özeti:**\n",
        "\n",
        "Derin Konvolüsyonel Sinir Ağı (CNN): Model, 4 adet konvolüsyonel katman (Conv2D) ve her katmandan sonra max pooling uygulanarak derinleştirilmiştir.\n",
        "\n",
        "Batch Normalization her konvolüsyonel katmandan sonra uygulanarak, modelin daha hızlı öğrenmesini ve daha stabil olmasını sağlar.\n",
        "Tam Bağlantılı Katman (Dense Layer): Flatten işleminden sonra, 512 nöronlu bir tam bağlantılı katman eklenmiş ve ardından Batch Normalization ile öğrenme süreci daha verimli hale getirilmiştir.\n",
        "\n",
        "Dropout Katmanları: Modelin aşırı öğrenme (overfitting) yapmasını engellemek amacıyla Dropout kullanılmıştır:\n",
        "\n",
        "\n",
        "Çıktı Katmanı: Son katman, softmax aktivasyon fonksiyonu ile her bir sınıfa ait olasılıkları hesaplar. Çıktı boyutu, hedef sınıf sayısına (hayvan sayısı) eşittir.\n",
        "\n",
        "Modelin Derlenmesi: Model, Adam optimizasyon algoritması ile derlenmiş ve öğrenme oranı 0.0001 olarak ayarlanmıştır. Hedef kayıp fonksiyonu ise sparse categorical crossentropy'dir, çünkü etiketler sayısal değerlerdir."
      ],
      "metadata": {
        "id": "Kwbyh0bvJ8Qr"
      }
    },
    {
      "cell_type": "code",
      "source": [
        "# CNN Modeli\n",
        "model = models.Sequential()\n",
        "\n",
        "# Konvolüsyonel Katman 1\n",
        "model.add(layers.Conv2D(32, (3, 3), activation='relu', input_shape=(64,64,3)))\n",
        "model.add(layers.BatchNormalization())  # Batch Normalization\n",
        "model.add(layers.MaxPooling2D((2, 2)))\n",
        "\n",
        "# Konvolüsyonel Katman 2\n",
        "model.add(layers.Conv2D(64, (3, 3), activation='relu'))\n",
        "model.add(layers.BatchNormalization())  # Batch Normalization\n",
        "model.add(layers.MaxPooling2D((2, 2)))\n",
        "\n",
        "# Konvolüsyonel Katman 3\n",
        "model.add(layers.Conv2D(128, (3, 3), activation='relu'))\n",
        "model.add(layers.BatchNormalization())  # Batch Normalization\n",
        "model.add(layers.MaxPooling2D((2, 2)))\n",
        "\n",
        "# Konvolüsyonel Katman 4\n",
        "model.add(layers.Conv2D(256, (3, 3), activation='relu'))\n",
        "model.add(layers.BatchNormalization())  # Batch Normalization\n",
        "model.add(layers.MaxPooling2D((2, 2)))\n",
        "\n",
        "# Flatten Katmanı\n",
        "model.add(layers.Flatten())\n",
        "\n",
        "# Tam Bağlantılı Katman\n",
        "# Batch Normalization Tam Bağlantılı Katmanda\n",
        "model.add(layers.Dense(512, activation='relu'))\n",
        "model.add(layers.BatchNormalization())\n",
        "model.add(layers.Dropout(0.5))\n",
        "\n",
        "# Dropout Katmanı\n",
        "model.add(layers.Dropout(0.6))  # Dropout oranını arttırdık\n",
        "\n",
        "# Çıktı Katmanı\n",
        "model.add(layers.Dense(len(animals), activation='softmax'))\n",
        "\n",
        "# Öğrenme oranını ayarlama\n",
        "optimizer = Adam(learning_rate=0.0001)  # Öğrenme oranını düşürdük\n",
        "\n",
        "# Modeli derleme\n",
        "model.compile(optimizer=optimizer,\n",
        "              loss='sparse_categorical_crossentropy',\n",
        "              metrics=['accuracy'])\n",
        "\n",
        "# Modelin özeti\n",
        "model.summary()\n"
      ],
      "metadata": {
        "id": "itDKgrNJeSdW",
        "outputId": "e68028f2-b3fe-45ee-8c4b-2d4669b89b70",
        "colab": {
          "base_uri": "https://localhost:8080/",
          "height": 833
        }
      },
      "execution_count": null,
      "outputs": [
        {
          "output_type": "display_data",
          "data": {
            "text/plain": [
              "\u001b[1mModel: \"sequential_3\"\u001b[0m\n"
            ],
            "text/html": [
              "<pre style=\"white-space:pre;overflow-x:auto;line-height:normal;font-family:Menlo,'DejaVu Sans Mono',consolas,'Courier New',monospace\"><span style=\"font-weight: bold\">Model: \"sequential_3\"</span>\n",
              "</pre>\n"
            ]
          },
          "metadata": {}
        },
        {
          "output_type": "display_data",
          "data": {
            "text/plain": [
              "┏━━━━━━━━━━━━━━━━━━━━━━━━━━━━━━━━━━━━━━┳━━━━━━━━━━━━━━━━━━━━━━━━━━━━━┳━━━━━━━━━━━━━━━━━┓\n",
              "┃\u001b[1m \u001b[0m\u001b[1mLayer (type)                        \u001b[0m\u001b[1m \u001b[0m┃\u001b[1m \u001b[0m\u001b[1mOutput Shape               \u001b[0m\u001b[1m \u001b[0m┃\u001b[1m \u001b[0m\u001b[1m        Param #\u001b[0m\u001b[1m \u001b[0m┃\n",
              "┡━━━━━━━━━━━━━━━━━━━━━━━━━━━━━━━━━━━━━━╇━━━━━━━━━━━━━━━━━━━━━━━━━━━━━╇━━━━━━━━━━━━━━━━━┩\n",
              "│ conv2d_12 (\u001b[38;5;33mConv2D\u001b[0m)                   │ (\u001b[38;5;45mNone\u001b[0m, \u001b[38;5;34m62\u001b[0m, \u001b[38;5;34m62\u001b[0m, \u001b[38;5;34m32\u001b[0m)          │             \u001b[38;5;34m896\u001b[0m │\n",
              "├──────────────────────────────────────┼─────────────────────────────┼─────────────────┤\n",
              "│ batch_normalization_15               │ (\u001b[38;5;45mNone\u001b[0m, \u001b[38;5;34m62\u001b[0m, \u001b[38;5;34m62\u001b[0m, \u001b[38;5;34m32\u001b[0m)          │             \u001b[38;5;34m128\u001b[0m │\n",
              "│ (\u001b[38;5;33mBatchNormalization\u001b[0m)                 │                             │                 │\n",
              "├──────────────────────────────────────┼─────────────────────────────┼─────────────────┤\n",
              "│ max_pooling2d_12 (\u001b[38;5;33mMaxPooling2D\u001b[0m)      │ (\u001b[38;5;45mNone\u001b[0m, \u001b[38;5;34m31\u001b[0m, \u001b[38;5;34m31\u001b[0m, \u001b[38;5;34m32\u001b[0m)          │               \u001b[38;5;34m0\u001b[0m │\n",
              "├──────────────────────────────────────┼─────────────────────────────┼─────────────────┤\n",
              "│ conv2d_13 (\u001b[38;5;33mConv2D\u001b[0m)                   │ (\u001b[38;5;45mNone\u001b[0m, \u001b[38;5;34m29\u001b[0m, \u001b[38;5;34m29\u001b[0m, \u001b[38;5;34m64\u001b[0m)          │          \u001b[38;5;34m18,496\u001b[0m │\n",
              "├──────────────────────────────────────┼─────────────────────────────┼─────────────────┤\n",
              "│ batch_normalization_16               │ (\u001b[38;5;45mNone\u001b[0m, \u001b[38;5;34m29\u001b[0m, \u001b[38;5;34m29\u001b[0m, \u001b[38;5;34m64\u001b[0m)          │             \u001b[38;5;34m256\u001b[0m │\n",
              "│ (\u001b[38;5;33mBatchNormalization\u001b[0m)                 │                             │                 │\n",
              "├──────────────────────────────────────┼─────────────────────────────┼─────────────────┤\n",
              "│ max_pooling2d_13 (\u001b[38;5;33mMaxPooling2D\u001b[0m)      │ (\u001b[38;5;45mNone\u001b[0m, \u001b[38;5;34m14\u001b[0m, \u001b[38;5;34m14\u001b[0m, \u001b[38;5;34m64\u001b[0m)          │               \u001b[38;5;34m0\u001b[0m │\n",
              "├──────────────────────────────────────┼─────────────────────────────┼─────────────────┤\n",
              "│ conv2d_14 (\u001b[38;5;33mConv2D\u001b[0m)                   │ (\u001b[38;5;45mNone\u001b[0m, \u001b[38;5;34m12\u001b[0m, \u001b[38;5;34m12\u001b[0m, \u001b[38;5;34m128\u001b[0m)         │          \u001b[38;5;34m73,856\u001b[0m │\n",
              "├──────────────────────────────────────┼─────────────────────────────┼─────────────────┤\n",
              "│ batch_normalization_17               │ (\u001b[38;5;45mNone\u001b[0m, \u001b[38;5;34m12\u001b[0m, \u001b[38;5;34m12\u001b[0m, \u001b[38;5;34m128\u001b[0m)         │             \u001b[38;5;34m512\u001b[0m │\n",
              "│ (\u001b[38;5;33mBatchNormalization\u001b[0m)                 │                             │                 │\n",
              "├──────────────────────────────────────┼─────────────────────────────┼─────────────────┤\n",
              "│ max_pooling2d_14 (\u001b[38;5;33mMaxPooling2D\u001b[0m)      │ (\u001b[38;5;45mNone\u001b[0m, \u001b[38;5;34m6\u001b[0m, \u001b[38;5;34m6\u001b[0m, \u001b[38;5;34m128\u001b[0m)           │               \u001b[38;5;34m0\u001b[0m │\n",
              "├──────────────────────────────────────┼─────────────────────────────┼─────────────────┤\n",
              "│ conv2d_15 (\u001b[38;5;33mConv2D\u001b[0m)                   │ (\u001b[38;5;45mNone\u001b[0m, \u001b[38;5;34m4\u001b[0m, \u001b[38;5;34m4\u001b[0m, \u001b[38;5;34m256\u001b[0m)           │         \u001b[38;5;34m295,168\u001b[0m │\n",
              "├──────────────────────────────────────┼─────────────────────────────┼─────────────────┤\n",
              "│ batch_normalization_18               │ (\u001b[38;5;45mNone\u001b[0m, \u001b[38;5;34m4\u001b[0m, \u001b[38;5;34m4\u001b[0m, \u001b[38;5;34m256\u001b[0m)           │           \u001b[38;5;34m1,024\u001b[0m │\n",
              "│ (\u001b[38;5;33mBatchNormalization\u001b[0m)                 │                             │                 │\n",
              "├──────────────────────────────────────┼─────────────────────────────┼─────────────────┤\n",
              "│ max_pooling2d_15 (\u001b[38;5;33mMaxPooling2D\u001b[0m)      │ (\u001b[38;5;45mNone\u001b[0m, \u001b[38;5;34m2\u001b[0m, \u001b[38;5;34m2\u001b[0m, \u001b[38;5;34m256\u001b[0m)           │               \u001b[38;5;34m0\u001b[0m │\n",
              "├──────────────────────────────────────┼─────────────────────────────┼─────────────────┤\n",
              "│ flatten_3 (\u001b[38;5;33mFlatten\u001b[0m)                  │ (\u001b[38;5;45mNone\u001b[0m, \u001b[38;5;34m1024\u001b[0m)                │               \u001b[38;5;34m0\u001b[0m │\n",
              "├──────────────────────────────────────┼─────────────────────────────┼─────────────────┤\n",
              "│ dense_6 (\u001b[38;5;33mDense\u001b[0m)                      │ (\u001b[38;5;45mNone\u001b[0m, \u001b[38;5;34m512\u001b[0m)                 │         \u001b[38;5;34m524,800\u001b[0m │\n",
              "├──────────────────────────────────────┼─────────────────────────────┼─────────────────┤\n",
              "│ batch_normalization_19               │ (\u001b[38;5;45mNone\u001b[0m, \u001b[38;5;34m512\u001b[0m)                 │           \u001b[38;5;34m2,048\u001b[0m │\n",
              "│ (\u001b[38;5;33mBatchNormalization\u001b[0m)                 │                             │                 │\n",
              "├──────────────────────────────────────┼─────────────────────────────┼─────────────────┤\n",
              "│ dropout_6 (\u001b[38;5;33mDropout\u001b[0m)                  │ (\u001b[38;5;45mNone\u001b[0m, \u001b[38;5;34m512\u001b[0m)                 │               \u001b[38;5;34m0\u001b[0m │\n",
              "├──────────────────────────────────────┼─────────────────────────────┼─────────────────┤\n",
              "│ dropout_7 (\u001b[38;5;33mDropout\u001b[0m)                  │ (\u001b[38;5;45mNone\u001b[0m, \u001b[38;5;34m512\u001b[0m)                 │               \u001b[38;5;34m0\u001b[0m │\n",
              "├──────────────────────────────────────┼─────────────────────────────┼─────────────────┤\n",
              "│ dense_7 (\u001b[38;5;33mDense\u001b[0m)                      │ (\u001b[38;5;45mNone\u001b[0m, \u001b[38;5;34m10\u001b[0m)                  │           \u001b[38;5;34m5,130\u001b[0m │\n",
              "└──────────────────────────────────────┴─────────────────────────────┴─────────────────┘\n"
            ],
            "text/html": [
              "<pre style=\"white-space:pre;overflow-x:auto;line-height:normal;font-family:Menlo,'DejaVu Sans Mono',consolas,'Courier New',monospace\">┏━━━━━━━━━━━━━━━━━━━━━━━━━━━━━━━━━━━━━━┳━━━━━━━━━━━━━━━━━━━━━━━━━━━━━┳━━━━━━━━━━━━━━━━━┓\n",
              "┃<span style=\"font-weight: bold\"> Layer (type)                         </span>┃<span style=\"font-weight: bold\"> Output Shape                </span>┃<span style=\"font-weight: bold\">         Param # </span>┃\n",
              "┡━━━━━━━━━━━━━━━━━━━━━━━━━━━━━━━━━━━━━━╇━━━━━━━━━━━━━━━━━━━━━━━━━━━━━╇━━━━━━━━━━━━━━━━━┩\n",
              "│ conv2d_12 (<span style=\"color: #0087ff; text-decoration-color: #0087ff\">Conv2D</span>)                   │ (<span style=\"color: #00d7ff; text-decoration-color: #00d7ff\">None</span>, <span style=\"color: #00af00; text-decoration-color: #00af00\">62</span>, <span style=\"color: #00af00; text-decoration-color: #00af00\">62</span>, <span style=\"color: #00af00; text-decoration-color: #00af00\">32</span>)          │             <span style=\"color: #00af00; text-decoration-color: #00af00\">896</span> │\n",
              "├──────────────────────────────────────┼─────────────────────────────┼─────────────────┤\n",
              "│ batch_normalization_15               │ (<span style=\"color: #00d7ff; text-decoration-color: #00d7ff\">None</span>, <span style=\"color: #00af00; text-decoration-color: #00af00\">62</span>, <span style=\"color: #00af00; text-decoration-color: #00af00\">62</span>, <span style=\"color: #00af00; text-decoration-color: #00af00\">32</span>)          │             <span style=\"color: #00af00; text-decoration-color: #00af00\">128</span> │\n",
              "│ (<span style=\"color: #0087ff; text-decoration-color: #0087ff\">BatchNormalization</span>)                 │                             │                 │\n",
              "├──────────────────────────────────────┼─────────────────────────────┼─────────────────┤\n",
              "│ max_pooling2d_12 (<span style=\"color: #0087ff; text-decoration-color: #0087ff\">MaxPooling2D</span>)      │ (<span style=\"color: #00d7ff; text-decoration-color: #00d7ff\">None</span>, <span style=\"color: #00af00; text-decoration-color: #00af00\">31</span>, <span style=\"color: #00af00; text-decoration-color: #00af00\">31</span>, <span style=\"color: #00af00; text-decoration-color: #00af00\">32</span>)          │               <span style=\"color: #00af00; text-decoration-color: #00af00\">0</span> │\n",
              "├──────────────────────────────────────┼─────────────────────────────┼─────────────────┤\n",
              "│ conv2d_13 (<span style=\"color: #0087ff; text-decoration-color: #0087ff\">Conv2D</span>)                   │ (<span style=\"color: #00d7ff; text-decoration-color: #00d7ff\">None</span>, <span style=\"color: #00af00; text-decoration-color: #00af00\">29</span>, <span style=\"color: #00af00; text-decoration-color: #00af00\">29</span>, <span style=\"color: #00af00; text-decoration-color: #00af00\">64</span>)          │          <span style=\"color: #00af00; text-decoration-color: #00af00\">18,496</span> │\n",
              "├──────────────────────────────────────┼─────────────────────────────┼─────────────────┤\n",
              "│ batch_normalization_16               │ (<span style=\"color: #00d7ff; text-decoration-color: #00d7ff\">None</span>, <span style=\"color: #00af00; text-decoration-color: #00af00\">29</span>, <span style=\"color: #00af00; text-decoration-color: #00af00\">29</span>, <span style=\"color: #00af00; text-decoration-color: #00af00\">64</span>)          │             <span style=\"color: #00af00; text-decoration-color: #00af00\">256</span> │\n",
              "│ (<span style=\"color: #0087ff; text-decoration-color: #0087ff\">BatchNormalization</span>)                 │                             │                 │\n",
              "├──────────────────────────────────────┼─────────────────────────────┼─────────────────┤\n",
              "│ max_pooling2d_13 (<span style=\"color: #0087ff; text-decoration-color: #0087ff\">MaxPooling2D</span>)      │ (<span style=\"color: #00d7ff; text-decoration-color: #00d7ff\">None</span>, <span style=\"color: #00af00; text-decoration-color: #00af00\">14</span>, <span style=\"color: #00af00; text-decoration-color: #00af00\">14</span>, <span style=\"color: #00af00; text-decoration-color: #00af00\">64</span>)          │               <span style=\"color: #00af00; text-decoration-color: #00af00\">0</span> │\n",
              "├──────────────────────────────────────┼─────────────────────────────┼─────────────────┤\n",
              "│ conv2d_14 (<span style=\"color: #0087ff; text-decoration-color: #0087ff\">Conv2D</span>)                   │ (<span style=\"color: #00d7ff; text-decoration-color: #00d7ff\">None</span>, <span style=\"color: #00af00; text-decoration-color: #00af00\">12</span>, <span style=\"color: #00af00; text-decoration-color: #00af00\">12</span>, <span style=\"color: #00af00; text-decoration-color: #00af00\">128</span>)         │          <span style=\"color: #00af00; text-decoration-color: #00af00\">73,856</span> │\n",
              "├──────────────────────────────────────┼─────────────────────────────┼─────────────────┤\n",
              "│ batch_normalization_17               │ (<span style=\"color: #00d7ff; text-decoration-color: #00d7ff\">None</span>, <span style=\"color: #00af00; text-decoration-color: #00af00\">12</span>, <span style=\"color: #00af00; text-decoration-color: #00af00\">12</span>, <span style=\"color: #00af00; text-decoration-color: #00af00\">128</span>)         │             <span style=\"color: #00af00; text-decoration-color: #00af00\">512</span> │\n",
              "│ (<span style=\"color: #0087ff; text-decoration-color: #0087ff\">BatchNormalization</span>)                 │                             │                 │\n",
              "├──────────────────────────────────────┼─────────────────────────────┼─────────────────┤\n",
              "│ max_pooling2d_14 (<span style=\"color: #0087ff; text-decoration-color: #0087ff\">MaxPooling2D</span>)      │ (<span style=\"color: #00d7ff; text-decoration-color: #00d7ff\">None</span>, <span style=\"color: #00af00; text-decoration-color: #00af00\">6</span>, <span style=\"color: #00af00; text-decoration-color: #00af00\">6</span>, <span style=\"color: #00af00; text-decoration-color: #00af00\">128</span>)           │               <span style=\"color: #00af00; text-decoration-color: #00af00\">0</span> │\n",
              "├──────────────────────────────────────┼─────────────────────────────┼─────────────────┤\n",
              "│ conv2d_15 (<span style=\"color: #0087ff; text-decoration-color: #0087ff\">Conv2D</span>)                   │ (<span style=\"color: #00d7ff; text-decoration-color: #00d7ff\">None</span>, <span style=\"color: #00af00; text-decoration-color: #00af00\">4</span>, <span style=\"color: #00af00; text-decoration-color: #00af00\">4</span>, <span style=\"color: #00af00; text-decoration-color: #00af00\">256</span>)           │         <span style=\"color: #00af00; text-decoration-color: #00af00\">295,168</span> │\n",
              "├──────────────────────────────────────┼─────────────────────────────┼─────────────────┤\n",
              "│ batch_normalization_18               │ (<span style=\"color: #00d7ff; text-decoration-color: #00d7ff\">None</span>, <span style=\"color: #00af00; text-decoration-color: #00af00\">4</span>, <span style=\"color: #00af00; text-decoration-color: #00af00\">4</span>, <span style=\"color: #00af00; text-decoration-color: #00af00\">256</span>)           │           <span style=\"color: #00af00; text-decoration-color: #00af00\">1,024</span> │\n",
              "│ (<span style=\"color: #0087ff; text-decoration-color: #0087ff\">BatchNormalization</span>)                 │                             │                 │\n",
              "├──────────────────────────────────────┼─────────────────────────────┼─────────────────┤\n",
              "│ max_pooling2d_15 (<span style=\"color: #0087ff; text-decoration-color: #0087ff\">MaxPooling2D</span>)      │ (<span style=\"color: #00d7ff; text-decoration-color: #00d7ff\">None</span>, <span style=\"color: #00af00; text-decoration-color: #00af00\">2</span>, <span style=\"color: #00af00; text-decoration-color: #00af00\">2</span>, <span style=\"color: #00af00; text-decoration-color: #00af00\">256</span>)           │               <span style=\"color: #00af00; text-decoration-color: #00af00\">0</span> │\n",
              "├──────────────────────────────────────┼─────────────────────────────┼─────────────────┤\n",
              "│ flatten_3 (<span style=\"color: #0087ff; text-decoration-color: #0087ff\">Flatten</span>)                  │ (<span style=\"color: #00d7ff; text-decoration-color: #00d7ff\">None</span>, <span style=\"color: #00af00; text-decoration-color: #00af00\">1024</span>)                │               <span style=\"color: #00af00; text-decoration-color: #00af00\">0</span> │\n",
              "├──────────────────────────────────────┼─────────────────────────────┼─────────────────┤\n",
              "│ dense_6 (<span style=\"color: #0087ff; text-decoration-color: #0087ff\">Dense</span>)                      │ (<span style=\"color: #00d7ff; text-decoration-color: #00d7ff\">None</span>, <span style=\"color: #00af00; text-decoration-color: #00af00\">512</span>)                 │         <span style=\"color: #00af00; text-decoration-color: #00af00\">524,800</span> │\n",
              "├──────────────────────────────────────┼─────────────────────────────┼─────────────────┤\n",
              "│ batch_normalization_19               │ (<span style=\"color: #00d7ff; text-decoration-color: #00d7ff\">None</span>, <span style=\"color: #00af00; text-decoration-color: #00af00\">512</span>)                 │           <span style=\"color: #00af00; text-decoration-color: #00af00\">2,048</span> │\n",
              "│ (<span style=\"color: #0087ff; text-decoration-color: #0087ff\">BatchNormalization</span>)                 │                             │                 │\n",
              "├──────────────────────────────────────┼─────────────────────────────┼─────────────────┤\n",
              "│ dropout_6 (<span style=\"color: #0087ff; text-decoration-color: #0087ff\">Dropout</span>)                  │ (<span style=\"color: #00d7ff; text-decoration-color: #00d7ff\">None</span>, <span style=\"color: #00af00; text-decoration-color: #00af00\">512</span>)                 │               <span style=\"color: #00af00; text-decoration-color: #00af00\">0</span> │\n",
              "├──────────────────────────────────────┼─────────────────────────────┼─────────────────┤\n",
              "│ dropout_7 (<span style=\"color: #0087ff; text-decoration-color: #0087ff\">Dropout</span>)                  │ (<span style=\"color: #00d7ff; text-decoration-color: #00d7ff\">None</span>, <span style=\"color: #00af00; text-decoration-color: #00af00\">512</span>)                 │               <span style=\"color: #00af00; text-decoration-color: #00af00\">0</span> │\n",
              "├──────────────────────────────────────┼─────────────────────────────┼─────────────────┤\n",
              "│ dense_7 (<span style=\"color: #0087ff; text-decoration-color: #0087ff\">Dense</span>)                      │ (<span style=\"color: #00d7ff; text-decoration-color: #00d7ff\">None</span>, <span style=\"color: #00af00; text-decoration-color: #00af00\">10</span>)                  │           <span style=\"color: #00af00; text-decoration-color: #00af00\">5,130</span> │\n",
              "└──────────────────────────────────────┴─────────────────────────────┴─────────────────┘\n",
              "</pre>\n"
            ]
          },
          "metadata": {}
        },
        {
          "output_type": "display_data",
          "data": {
            "text/plain": [
              "\u001b[1m Total params: \u001b[0m\u001b[38;5;34m922,314\u001b[0m (3.52 MB)\n"
            ],
            "text/html": [
              "<pre style=\"white-space:pre;overflow-x:auto;line-height:normal;font-family:Menlo,'DejaVu Sans Mono',consolas,'Courier New',monospace\"><span style=\"font-weight: bold\"> Total params: </span><span style=\"color: #00af00; text-decoration-color: #00af00\">922,314</span> (3.52 MB)\n",
              "</pre>\n"
            ]
          },
          "metadata": {}
        },
        {
          "output_type": "display_data",
          "data": {
            "text/plain": [
              "\u001b[1m Trainable params: \u001b[0m\u001b[38;5;34m920,330\u001b[0m (3.51 MB)\n"
            ],
            "text/html": [
              "<pre style=\"white-space:pre;overflow-x:auto;line-height:normal;font-family:Menlo,'DejaVu Sans Mono',consolas,'Courier New',monospace\"><span style=\"font-weight: bold\"> Trainable params: </span><span style=\"color: #00af00; text-decoration-color: #00af00\">920,330</span> (3.51 MB)\n",
              "</pre>\n"
            ]
          },
          "metadata": {}
        },
        {
          "output_type": "display_data",
          "data": {
            "text/plain": [
              "\u001b[1m Non-trainable params: \u001b[0m\u001b[38;5;34m1,984\u001b[0m (7.75 KB)\n"
            ],
            "text/html": [
              "<pre style=\"white-space:pre;overflow-x:auto;line-height:normal;font-family:Menlo,'DejaVu Sans Mono',consolas,'Courier New',monospace\"><span style=\"font-weight: bold\"> Non-trainable params: </span><span style=\"color: #00af00; text-decoration-color: #00af00\">1,984</span> (7.75 KB)\n",
              "</pre>\n"
            ]
          },
          "metadata": {}
        }
      ]
    },
    {
      "cell_type": "markdown",
      "source": [
        "# EĞİTİM AŞAMASI"
      ],
      "metadata": {
        "id": "n2o6OahSPgYD"
      }
    },
    {
      "cell_type": "markdown",
      "source": [
        "Eğitim kodlarını özetlemek gerekirse:\n",
        "\n",
        "\n",
        "İlk kısımda, **TestAccuracyCallback** sınıfı, her epoch sonunda test verisetinin doğruluğunu yazdırmak için oluşturulmuş bir callback sınıfıdır.\n",
        "\n",
        "\n",
        "**on_epoch_end metodu** ile her epoch sonunda test verisi üzerinde doğruluk ve kayıp hesaplanır. Bu metot, eğitim sürecine geri bildirim sağlar ve modelin nasıl geliştiğini görmeyi mümkün kılar.\n",
        "\n",
        "TestAccuracyCallback: Modelin her epoch sonunda test doğruluğunu yazdırır.\n",
        "\n",
        "ModelCheckpoint: En iyi model kaydedilir.\n",
        "\n",
        "EarlyStopping: Eğitim süreci erken durdurulur, aşırı öğrenme (overfitting) engellenir.\n",
        "\n",
        "Eğitim, bu callback'ler sayesinde daha verimli hale gelir."
      ],
      "metadata": {
        "id": "s06gktUPPi4E"
      }
    },
    {
      "cell_type": "code",
      "source": [
        "# Test doğruluğunu her epoch sonunda yazdırmak için Callback\n",
        "class TestAccuracyCallback(Callback):\n",
        "    def on_epoch_end(self, epoch, logs=None):\n",
        "        loss, accuracy = self.model.evaluate(X_test / 255.0, y_test, verbose=0)  # Test setini değerlendir\n",
        "        print(f\"Epoch {epoch + 1}: Test Accuracy: {accuracy * 100:.2f}%, Test Loss: {loss:.4f}\")\n",
        "\n",
        "# Model Checkpoint\n",
        "checkpoint = ModelCheckpoint(\n",
        "    'best_model.keras',  # Kaydedilecek dosya adı\n",
        "    monitor='val_loss',  # Hangi metriği izlemek istiyorsunuz\n",
        "    save_best_only=True,  # Sadece en iyi olan modeli kaydeder\n",
        "    mode='min',  # Daha düşük val_loss daha iyi olduğu için 'min'\n",
        "    verbose=1\n",
        ")\n",
        "\n",
        "# Erken durdurma\n",
        "early_stopping = EarlyStopping(monitor='val_loss', patience=10, restore_best_weights=True)\n",
        "\n",
        "# Model eğitimi\n",
        "history = model.fit(\n",
        "    train_generator,\n",
        "    epochs=15,\n",
        "    validation_data=validation_generator,\n",
        "    callbacks=[TestAccuracyCallback(), checkpoint, early_stopping]\n",
        ")\n"
      ],
      "metadata": {
        "colab": {
          "base_uri": "https://localhost:8080/"
        },
        "id": "BgfRXDgYSlAN",
        "outputId": "02468195-7179-4ae0-af7e-08aed6c9c0a8"
      },
      "execution_count": null,
      "outputs": [
        {
          "output_type": "stream",
          "name": "stdout",
          "text": [
            "Epoch 1/15\n",
            "\u001b[1m158/163\u001b[0m \u001b[32m━━━━━━━━━━━━━━━━━━━\u001b[0m\u001b[37m━\u001b[0m \u001b[1m0s\u001b[0m 42ms/step - accuracy: 0.2664 - loss: 3.4750Epoch 1: Test Accuracy: 13.31%, Test Loss: 4.7301\n",
            "\n",
            "Epoch 1: val_loss improved from inf to 4.73007, saving model to best_model.keras\n",
            "\u001b[1m163/163\u001b[0m \u001b[32m━━━━━━━━━━━━━━━━━━━━\u001b[0m\u001b[37m\u001b[0m \u001b[1m8s\u001b[0m 47ms/step - accuracy: 0.2666 - loss: 3.4731 - val_accuracy: 0.1331 - val_loss: 4.7301\n",
            "Epoch 2/15\n",
            "\u001b[1m163/163\u001b[0m \u001b[32m━━━━━━━━━━━━━━━━━━━━\u001b[0m\u001b[37m\u001b[0m \u001b[1m0s\u001b[0m 46ms/step - accuracy: 0.2914 - loss: 3.1480Epoch 2: Test Accuracy: 10.08%, Test Loss: 5.9770\n",
            "\n",
            "Epoch 2: val_loss did not improve from 4.73007\n",
            "\u001b[1m163/163\u001b[0m \u001b[32m━━━━━━━━━━━━━━━━━━━━\u001b[0m\u001b[37m\u001b[0m \u001b[1m11s\u001b[0m 52ms/step - accuracy: 0.2915 - loss: 3.1475 - val_accuracy: 0.1008 - val_loss: 5.9770\n",
            "Epoch 3/15\n",
            "\u001b[1m158/163\u001b[0m \u001b[32m━━━━━━━━━━━━━━━━━━━\u001b[0m\u001b[37m━\u001b[0m \u001b[1m0s\u001b[0m 51ms/step - accuracy: 0.3198 - loss: 2.8393Epoch 3: Test Accuracy: 22.15%, Test Loss: 3.5559\n",
            "\n",
            "Epoch 3: val_loss improved from 4.73007 to 3.55594, saving model to best_model.keras\n",
            "\u001b[1m163/163\u001b[0m \u001b[32m━━━━━━━━━━━━━━━━━━━━\u001b[0m\u001b[37m\u001b[0m \u001b[1m9s\u001b[0m 56ms/step - accuracy: 0.3201 - loss: 2.8376 - val_accuracy: 0.2215 - val_loss: 3.5559\n",
            "Epoch 4/15\n",
            "\u001b[1m162/163\u001b[0m \u001b[32m━━━━━━━━━━━━━━━━━━━\u001b[0m\u001b[37m━\u001b[0m \u001b[1m0s\u001b[0m 43ms/step - accuracy: 0.3285 - loss: 2.6881Epoch 4: Test Accuracy: 39.62%, Test Loss: 1.8371\n",
            "\n",
            "Epoch 4: val_loss improved from 3.55594 to 1.83710, saving model to best_model.keras\n",
            "\u001b[1m163/163\u001b[0m \u001b[32m━━━━━━━━━━━━━━━━━━━━\u001b[0m\u001b[37m\u001b[0m \u001b[1m9s\u001b[0m 49ms/step - accuracy: 0.3286 - loss: 2.6881 - val_accuracy: 0.3962 - val_loss: 1.8371\n",
            "Epoch 5/15\n",
            "\u001b[1m163/163\u001b[0m \u001b[32m━━━━━━━━━━━━━━━━━━━━\u001b[0m\u001b[37m\u001b[0m \u001b[1m0s\u001b[0m 41ms/step - accuracy: 0.3477 - loss: 2.5130Epoch 5: Test Accuracy: 46.46%, Test Loss: 1.5443\n",
            "\n",
            "Epoch 5: val_loss improved from 1.83710 to 1.54426, saving model to best_model.keras\n",
            "\u001b[1m163/163\u001b[0m \u001b[32m━━━━━━━━━━━━━━━━━━━━\u001b[0m\u001b[37m\u001b[0m \u001b[1m10s\u001b[0m 46ms/step - accuracy: 0.3477 - loss: 2.5130 - val_accuracy: 0.4646 - val_loss: 1.5443\n",
            "Epoch 6/15\n",
            "\u001b[1m162/163\u001b[0m \u001b[32m━━━━━━━━━━━━━━━━━━━\u001b[0m\u001b[37m━\u001b[0m \u001b[1m0s\u001b[0m 42ms/step - accuracy: 0.3480 - loss: 2.4105Epoch 6: Test Accuracy: 52.00%, Test Loss: 1.4395\n",
            "\n",
            "Epoch 6: val_loss improved from 1.54426 to 1.43946, saving model to best_model.keras\n",
            "\u001b[1m163/163\u001b[0m \u001b[32m━━━━━━━━━━━━━━━━━━━━\u001b[0m\u001b[37m\u001b[0m \u001b[1m10s\u001b[0m 46ms/step - accuracy: 0.3480 - loss: 2.4102 - val_accuracy: 0.5200 - val_loss: 1.4395\n",
            "Epoch 7/15\n",
            "\u001b[1m163/163\u001b[0m \u001b[32m━━━━━━━━━━━━━━━━━━━━\u001b[0m\u001b[37m\u001b[0m \u001b[1m0s\u001b[0m 48ms/step - accuracy: 0.3646 - loss: 2.2520Epoch 7: Test Accuracy: 36.46%, Test Loss: 2.0858\n",
            "\n",
            "Epoch 7: val_loss did not improve from 1.43946\n",
            "\u001b[1m163/163\u001b[0m \u001b[32m━━━━━━━━━━━━━━━━━━━━\u001b[0m\u001b[37m\u001b[0m \u001b[1m11s\u001b[0m 52ms/step - accuracy: 0.3645 - loss: 2.2523 - val_accuracy: 0.3646 - val_loss: 2.0858\n",
            "Epoch 8/15\n",
            "\u001b[1m158/163\u001b[0m \u001b[32m━━━━━━━━━━━━━━━━━━━\u001b[0m\u001b[37m━\u001b[0m \u001b[1m0s\u001b[0m 50ms/step - accuracy: 0.3826 - loss: 2.1874Epoch 8: Test Accuracy: 49.08%, Test Loss: 1.5092\n",
            "\n",
            "Epoch 8: val_loss did not improve from 1.43946\n",
            "\u001b[1m163/163\u001b[0m \u001b[32m━━━━━━━━━━━━━━━━━━━━\u001b[0m\u001b[37m\u001b[0m \u001b[1m10s\u001b[0m 54ms/step - accuracy: 0.3825 - loss: 2.1869 - val_accuracy: 0.4908 - val_loss: 1.5092\n",
            "Epoch 9/15\n",
            "\u001b[1m162/163\u001b[0m \u001b[32m━━━━━━━━━━━━━━━━━━━\u001b[0m\u001b[37m━\u001b[0m \u001b[1m0s\u001b[0m 47ms/step - accuracy: 0.3816 - loss: 2.1236Epoch 9: Test Accuracy: 54.31%, Test Loss: 1.3488\n",
            "\n",
            "Epoch 9: val_loss improved from 1.43946 to 1.34877, saving model to best_model.keras\n",
            "\u001b[1m163/163\u001b[0m \u001b[32m━━━━━━━━━━━━━━━━━━━━\u001b[0m\u001b[37m\u001b[0m \u001b[1m10s\u001b[0m 54ms/step - accuracy: 0.3816 - loss: 2.1233 - val_accuracy: 0.5431 - val_loss: 1.3488\n",
            "Epoch 10/15\n",
            "\u001b[1m162/163\u001b[0m \u001b[32m━━━━━━━━━━━━━━━━━━━\u001b[0m\u001b[37m━\u001b[0m \u001b[1m0s\u001b[0m 42ms/step - accuracy: 0.3875 - loss: 2.0706Epoch 10: Test Accuracy: 41.85%, Test Loss: 1.7026\n",
            "\n",
            "Epoch 10: val_loss did not improve from 1.34877\n",
            "\u001b[1m163/163\u001b[0m \u001b[32m━━━━━━━━━━━━━━━━━━━━\u001b[0m\u001b[37m\u001b[0m \u001b[1m9s\u001b[0m 45ms/step - accuracy: 0.3876 - loss: 2.0703 - val_accuracy: 0.4185 - val_loss: 1.7026\n",
            "Epoch 11/15\n",
            "\u001b[1m162/163\u001b[0m \u001b[32m━━━━━━━━━━━━━━━━━━━\u001b[0m\u001b[37m━\u001b[0m \u001b[1m0s\u001b[0m 43ms/step - accuracy: 0.4067 - loss: 2.0041Epoch 11: Test Accuracy: 49.54%, Test Loss: 1.4851\n",
            "\n",
            "Epoch 11: val_loss did not improve from 1.34877\n",
            "\u001b[1m163/163\u001b[0m \u001b[32m━━━━━━━━━━━━━━━━━━━━\u001b[0m\u001b[37m\u001b[0m \u001b[1m11s\u001b[0m 46ms/step - accuracy: 0.4067 - loss: 2.0037 - val_accuracy: 0.4954 - val_loss: 1.4851\n",
            "Epoch 12/15\n",
            "\u001b[1m163/163\u001b[0m \u001b[32m━━━━━━━━━━━━━━━━━━━━\u001b[0m\u001b[37m\u001b[0m \u001b[1m0s\u001b[0m 51ms/step - accuracy: 0.4113 - loss: 1.9370Epoch 12: Test Accuracy: 49.92%, Test Loss: 1.4621\n",
            "\n",
            "Epoch 12: val_loss did not improve from 1.34877\n",
            "\u001b[1m163/163\u001b[0m \u001b[32m━━━━━━━━━━━━━━━━━━━━\u001b[0m\u001b[37m\u001b[0m \u001b[1m9s\u001b[0m 54ms/step - accuracy: 0.4113 - loss: 1.9371 - val_accuracy: 0.4992 - val_loss: 1.4621\n",
            "Epoch 13/15\n",
            "\u001b[1m161/163\u001b[0m \u001b[32m━━━━━━━━━━━━━━━━━━━\u001b[0m\u001b[37m━\u001b[0m \u001b[1m0s\u001b[0m 43ms/step - accuracy: 0.4133 - loss: 1.9137Epoch 13: Test Accuracy: 54.77%, Test Loss: 1.2967\n",
            "\n",
            "Epoch 13: val_loss improved from 1.34877 to 1.29672, saving model to best_model.keras\n",
            "\u001b[1m163/163\u001b[0m \u001b[32m━━━━━━━━━━━━━━━━━━━━\u001b[0m\u001b[37m\u001b[0m \u001b[1m9s\u001b[0m 47ms/step - accuracy: 0.4134 - loss: 1.9129 - val_accuracy: 0.5477 - val_loss: 1.2967\n",
            "Epoch 14/15\n",
            "\u001b[1m162/163\u001b[0m \u001b[32m━━━━━━━━━━━━━━━━━━━\u001b[0m\u001b[37m━\u001b[0m \u001b[1m0s\u001b[0m 45ms/step - accuracy: 0.4075 - loss: 1.9152Epoch 14: Test Accuracy: 55.23%, Test Loss: 1.2735\n",
            "\n",
            "Epoch 14: val_loss improved from 1.29672 to 1.27346, saving model to best_model.keras\n",
            "\u001b[1m163/163\u001b[0m \u001b[32m━━━━━━━━━━━━━━━━━━━━\u001b[0m\u001b[37m\u001b[0m \u001b[1m8s\u001b[0m 49ms/step - accuracy: 0.4077 - loss: 1.9148 - val_accuracy: 0.5523 - val_loss: 1.2735\n",
            "Epoch 15/15\n",
            "\u001b[1m158/163\u001b[0m \u001b[32m━━━━━━━━━━━━━━━━━━━\u001b[0m\u001b[37m━\u001b[0m \u001b[1m0s\u001b[0m 52ms/step - accuracy: 0.4333 - loss: 1.8073Epoch 15: Test Accuracy: 54.38%, Test Loss: 1.2980\n",
            "\n",
            "Epoch 15: val_loss did not improve from 1.27346\n",
            "\u001b[1m163/163\u001b[0m \u001b[32m━━━━━━━━━━━━━━━━━━━━\u001b[0m\u001b[37m\u001b[0m \u001b[1m9s\u001b[0m 55ms/step - accuracy: 0.4335 - loss: 1.8068 - val_accuracy: 0.5438 - val_loss: 1.2980\n"
          ]
        }
      ]
    },
    {
      "cell_type": "code",
      "source": [
        "# Modeli test etme\n",
        "test_loss, test_accuracy = model.evaluate(validation_generator)\n",
        "\n",
        "# Sonuçları yazdırma\n",
        "print(f\"Test kaybı: {test_loss}\")\n",
        "print(f\"Test doğruluğu: {test_accuracy*100}\")\n"
      ],
      "metadata": {
        "id": "rVCnXGtJfbqU",
        "colab": {
          "base_uri": "https://localhost:8080/"
        },
        "outputId": "ca2d2974-b4dc-4bf4-c52c-36bcbe472f31"
      },
      "execution_count": null,
      "outputs": [
        {
          "output_type": "stream",
          "name": "stdout",
          "text": [
            "\u001b[1m41/41\u001b[0m \u001b[32m━━━━━━━━━━━━━━━━━━━━\u001b[0m\u001b[37m\u001b[0m \u001b[1m0s\u001b[0m 4ms/step - accuracy: 0.5507 - loss: 1.2659\n",
            "Test kaybı: 1.273461103439331\n",
            "Test doğruluğu: 55.2307665348053\n"
          ]
        }
      ]
    },
    {
      "cell_type": "markdown",
      "source": [
        "Burada sonuçlar, test kaybı ve doğruluk oranı olarak yazdırılır. test_accuracy * 100 ifadesi, doğruluğun yüzde olarak gösterilmesini sağlar."
      ],
      "metadata": {
        "id": "RoFuGE5VQZXj"
      }
    },
    {
      "cell_type": "markdown",
      "source": [
        "# Manipüle İşlemleri"
      ],
      "metadata": {
        "id": "23q9eO01QfwM"
      }
    },
    {
      "cell_type": "markdown",
      "source": [
        "Bu kod, test setindeki görsellerin manipülasyonunu gerçekleştirir ve manipüle edilmiş görselleri belirtilen bir dizine kaydeder. Adım adım açıklayalım:\n",
        "\n",
        "1. get_manipulated_images Fonksiyonu\n",
        "\n",
        "Girdi: images (görseller), output_dir (çıktı dizini).\n",
        "Çıktı: Manipüle edilmiş görsellerin bir listesi ve bu görsellerin numpy dizisi.\n",
        "\n",
        "Adımlar:\n",
        "\n",
        "os.makedirs(output_dir, exist_ok=True):\n",
        "\n",
        "Çıktı dizini (output_dir) varsa, yeniden oluşturulmaz. Yoksa, dizin oluşturulur.\n",
        "\n",
        "cv2.convertScaleAbs(img, alpha=1.2, beta=5):\n",
        "\n",
        "Işık manipülasyonu:\n",
        "\n",
        " Görselin parlaklığı ve kontrastı artırılır. alpha=1.2 ile kontrast artırılırken, beta=5 ile parlaklık artırılır.\n",
        "\n",
        "cv2.imwrite(filename, cv2.cvtColor(manipulated, cv2.COLOR_RGB2BGR)):\n",
        "\n",
        "Manipüle edilmiş görsel kaydedilir. OpenCV, renkleri RGB yerine BGR formatında işler, bu nedenle renk dönüşümü yapılır.\n",
        "\n",
        "manipulated_images.append(manipulated):\n",
        "\n",
        "Manipüle edilmiş görsel listeye eklenir.\n",
        "\n",
        "2. Test Setindeki Görselleri Manipüle Etme\n",
        "\n",
        "manipulated_images = get_manipulated_images(X_test):\n",
        "Bu satır, X_test'teki tüm test seti görsellerini alır ve yukarıdaki fonksiyonla manipüle eder. Manipüle edilen görseller, manipulated_images dizisine kaydedilir.\n",
        "\n",
        "3. Sonuç:\n",
        "\n",
        "Manipüle edilen her bir görsel, belirtilen dizine (varsayılan olarak manipulated_images) kaydedilir.\n",
        "Fonksiyon, manipüle edilmiş görselleri numpy dizisi olarak döndürür."
      ],
      "metadata": {
        "id": "3Tkd-COmQtj-"
      }
    },
    {
      "cell_type": "code",
      "source": [
        "def get_manipulated_images(images, output_dir=\"manipulated_images\"):\n",
        "    os.makedirs(output_dir, exist_ok=True)  # Çıktı dizinini oluştur\n",
        "    manipulated_images = []\n",
        "\n",
        "    for idx, img in enumerate(images):\n",
        "        # Işık manipülasyonu\n",
        "        manipulated = cv2.convertScaleAbs(img, alpha=1.2, beta=5)\n",
        "\n",
        "        # Dosyaya kaydet\n",
        "        filename = os.path.join(output_dir, f'manipulated_{idx}.png')\n",
        "        cv2.imwrite(filename, cv2.cvtColor(manipulated, cv2.COLOR_RGB2BGR))\n",
        "\n",
        "        manipulated_images.append(manipulated)\n",
        "\n",
        "    print(f\"Manipüle edilmiş resimler '{output_dir}' dizinine kaydedildi.\")\n",
        "    return np.array(manipulated_images)\n",
        "# Test setindeki görselleri manipüle et\n",
        "manipulated_images = get_manipulated_images(X_test)  # X_test, test seti görüntüleridir.\n"
      ],
      "metadata": {
        "id": "ei4iURfopqYM",
        "colab": {
          "base_uri": "https://localhost:8080/"
        },
        "outputId": "33933c8d-85d4-4a9e-edfc-212aa8b5a76c"
      },
      "execution_count": null,
      "outputs": [
        {
          "output_type": "stream",
          "name": "stdout",
          "text": [
            "Manipüle edilmiş resimler 'manipulated_images' dizinine kaydedildi.\n"
          ]
        }
      ]
    },
    {
      "cell_type": "code",
      "source": [
        "# Manipüle edilmiş test setiyle doğruluk değerlendirmesi\n",
        "manipulated_test_loss, manipulated_test_accuracy = model.evaluate(\n",
        "    manipulated_images / 255.0,  # Normalizasyon\n",
        "    y_test,\n",
        "    verbose=1  # Değerlendirme sırasında ilerleme çubuğunu göstermek için\n",
        ")\n",
        "\n",
        "# Sonuçları yazdırma\n",
        "print(f\"Manipüle Edilmiş Test Seti Doğruluğu: {manipulated_test_accuracy * 100:.2f}%\")\n",
        "print(f\"Manipüle Edilmiş Test Seti Kaybı: {manipulated_test_loss:.4f}\")\n"
      ],
      "metadata": {
        "id": "YIj42DNf0GAY",
        "colab": {
          "base_uri": "https://localhost:8080/"
        },
        "outputId": "125a7a59-f2f6-4ded-9b73-926f7f057be0"
      },
      "execution_count": null,
      "outputs": [
        {
          "output_type": "stream",
          "name": "stdout",
          "text": [
            "\u001b[1m41/41\u001b[0m \u001b[32m━━━━━━━━━━━━━━━━━━━━\u001b[0m\u001b[37m\u001b[0m \u001b[1m0s\u001b[0m 3ms/step - accuracy: 0.1184 - loss: 23.1945\n",
            "Manipüle Edilmiş Test Seti Doğruluğu: 11.85%\n",
            "Manipüle Edilmiş Test Seti Kaybı: 23.1482\n"
          ]
        }
      ]
    },
    {
      "cell_type": "markdown",
      "source": [
        "1- Manipüle Edilmiş Test Seti ile Doğruluk Değerlendirmesi\n",
        "Girdi:\n",
        "\n",
        "manipulated_images: Işık manipülasyonu yapılmış olan test görselleri.\n",
        "y_test: Gerçek etiketler (test setinin doğruluğu için).\n",
        "Çıktı:\n",
        "Modelin manipüle edilmiş test seti üzerindeki doğruluk ve kaybı.\n",
        "Adımlar:\n",
        "\n",
        "Normalizasyon:\n",
        "manipulated_images / 255.0:\n",
        "Görseller 0-255 arasında değerler alırken, modelin daha sağlıklı çalışabilmesi için bu değerler 0-1 aralığına normalize edilir.\n",
        "\n",
        "Model Değerlendirmesi:\n",
        "\n",
        "model.evaluate(): Manipüle edilmiş test seti ve etiketler (y_test) ile modelin doğruluk ve kaybı hesaplanır.\n",
        "verbose=1: Bu seçenek, modelin değerlendirilmesi sırasında ilerleme çubuğunu görmenizi sağlar.\n",
        "\n",
        "Sonuçları Yazdırma:\n",
        "\n",
        "manipulated_test_accuracy * 100: Test doğruluğu yüzde olarak yazdırılır.\n",
        "manipulated_test_loss: Test kaybı yazdırılır.\n",
        "\n",
        "1- Sonuçlar:\n",
        "\n",
        "Manipüle Edilmiş Test Seti Doğruluğu: Manipülasyon sonrası modelin doğruluğu yüzde olarak yazdırılır.\n",
        "Manipüle Edilmiş Test Seti Kaybı: Manipülasyon sonrası modelin kaybı yazdırılır.\n",
        "\n",
        "Özetleyecek olursak:\n",
        "Kod, manipüle edilmiş test seti üzerindeki model doğruluğunu ve kaybını hesaplar. Bu değerlendirme, modelin ışık manipülasyonuna karşı nasıl performans gösterdiğini belirlemek için yapılır."
      ],
      "metadata": {
        "id": "emQB3kWKReQ2"
      }
    },
    {
      "cell_type": "code",
      "source": [
        "def get_wb_images(images):\n",
        "    wb_images = []\n",
        "    for img in images:\n",
        "        # Ortalama R, G, B kanallarını hesapla\n",
        "        avg_b = np.mean(img[:, :, 0])\n",
        "        avg_g = np.mean(img[:, :, 1])\n",
        "        avg_r = np.mean(img[:, :, 2])\n",
        "\n",
        "        # Her kanalı normalize et\n",
        "        wb_image = np.zeros_like(img)\n",
        "        wb_image[:, :, 0] = np.clip(img[:, :, 0] * (avg_g / avg_b), 0, 255)\n",
        "        wb_image[:, :, 1] = img[:, :, 1]  # Yeşil kanal sabit kalır\n",
        "        wb_image[:, :, 2] = np.clip(img[:, :, 2] * (avg_g / avg_r), 0, 255)\n",
        "\n",
        "        wb_images.append(wb_image.astype(np.uint8))\n",
        "\n",
        "    return np.array(wb_images)\n",
        "\n",
        "# Manipüle edilmiş test setine renk sabitliği uygulama\n",
        "X_test_wb = get_wb_images(manipulated_images)\n"
      ],
      "metadata": {
        "id": "d13vdp-G5x6s"
      },
      "execution_count": null,
      "outputs": []
    },
    {
      "cell_type": "markdown",
      "source": [
        "Bu kod, manipüle edilmiş test setine renk sabitliği (white balance) uygulayarak, her bir görselin renk dengesini düzeltir.\n",
        "\n",
        "En sonda ise tekrardan normalize edilir ve manipulated_images (manipülasyon yapılmış test görselleri) üzerinde renk sabitliği uygulanır.\n",
        "\n",
        "\n",
        "Sonuçta X_test_wb, renk sabitliği yapılmış test görsellerini içerir."
      ],
      "metadata": {
        "id": "9UQ1XBPMR_Yi"
      }
    },
    {
      "cell_type": "code",
      "source": [
        "# Manipüle edilmiş test seti doğruluğunu hesaplama\n",
        "manipulated_loss, manipulated_accuracy = model.evaluate(manipulated_images / 255.0, y_test)\n",
        "print(f\"Manipüle Edilmiş Test Seti Doğruluğu: {manipulated_accuracy * 100:.2f}%\")\n",
        "\n",
        "# Renk sabitliği uygulanmış test seti doğruluğunu hesaplama\n",
        "wb_loss, wb_accuracy = model.evaluate(X_test_wb / 255.0, y_test)\n",
        "print(f\"Renk Sabitliği Uygulanmış Test Seti Doğruluğu: {wb_accuracy * 100:.2f}%\")\n"
      ],
      "metadata": {
        "colab": {
          "base_uri": "https://localhost:8080/"
        },
        "id": "VbwzcRyx73f_",
        "outputId": "06d524f1-5ab9-42cb-fe2d-167bec06f6b4"
      },
      "execution_count": null,
      "outputs": [
        {
          "output_type": "stream",
          "name": "stdout",
          "text": [
            "\u001b[1m41/41\u001b[0m \u001b[32m━━━━━━━━━━━━━━━━━━━━\u001b[0m\u001b[37m\u001b[0m \u001b[1m0s\u001b[0m 3ms/step - accuracy: 0.1184 - loss: 23.1945\n",
            "Manipüle Edilmiş Test Seti Doğruluğu: 11.85%\n",
            "\u001b[1m41/41\u001b[0m \u001b[32m━━━━━━━━━━━━━━━━━━━━\u001b[0m\u001b[37m\u001b[0m \u001b[1m0s\u001b[0m 3ms/step - accuracy: 0.1186 - loss: 22.3693\n",
            "Renk Sabitliği Uygulanmış Test Seti Doğruluğu: 11.92%\n"
          ]
        }
      ]
    },
    {
      "cell_type": "markdown",
      "source": [
        "Yukardaki kodda ise bu manipüle edilmiş test setinin ve renk sabitliği uygulanmış test setinin doğruluğunu ekrana yazdırdık."
      ],
      "metadata": {
        "id": "FNiu2dXrSNtp"
      }
    },
    {
      "cell_type": "code",
      "source": [
        "# Doğruluk oranlarını karşılaştırma\n",
        "original_accuracy = history.history['val_accuracy'][-1]\n",
        "\n",
        "accuracies = [\n",
        "    original_accuracy * 100,\n",
        "    manipulated_accuracy * 100,\n",
        "    wb_accuracy * 100\n",
        "]\n",
        "\n",
        "labels = ['Orijinal Test Seti', 'Manipüle Edilmiş Test Seti', 'Renk Sabitliği Uygulanmış Test Seti']\n",
        "\n",
        "# Çubuk genişliğini ayarlama\n",
        "bar_width = 0.1  # Genişlik değeri (0 ile 1 arasında)\n",
        "\n",
        "# Çubuk grafik\n",
        "plt.bar(labels, accuracies, color=['blue', 'orange', 'green'], width=bar_width)\n",
        "\n",
        "# Grafik başlıkları ve etiketleri\n",
        "plt.ylabel('Doğruluk (%)')\n",
        "plt.title('Farklı Test Setlerinde Model Performansı')\n",
        "\n",
        "# Grafiği göster\n",
        "plt.show()\n"
      ],
      "metadata": {
        "colab": {
          "base_uri": "https://localhost:8080/",
          "height": 452
        },
        "id": "RKQ8kZWV5yiR",
        "outputId": "59993042-af97-46d1-ebcd-d688586d591f"
      },
      "execution_count": null,
      "outputs": [
        {
          "output_type": "display_data",
          "data": {
            "text/plain": [
              "<Figure size 640x480 with 1 Axes>"
            ],
            "image/png": "[encoded data removed]"
          },
          "metadata": {}
        }
      ]
    },
    {
      "cell_type": "markdown",
      "source": [
        "Bu kod, farklı test setlerinde modelin doğruluk oranlarını karşılaştıran bir çubuk grafik oluşturur ve bu sayede aradaki farkı daha net bir şekilde görebiliriz.\n",
        "\n",
        " Çubuklar birbirinden farklı renklerde olduğundan görsel olarak ayrılmaları sağlanır."
      ],
      "metadata": {
        "id": "lCJt06awSaYQ"
      }
    },
    {
      "cell_type": "markdown",
      "source": [
        "# Sonuçlar ve Değerlendirmeler"
      ],
      "metadata": {
        "id": "iMmy_VAgS3N9"
      }
    },
    {
      "cell_type": "markdown",
      "source": [
        "\n",
        "**Model Doğruluk Sonuçlarının Karşılaştırılması**\n",
        "\n",
        "Bu aşamada, modelin farklı test setleri üzerindeki performansı gözlemlenmiştir:\n",
        "\n",
        "**Orijinal Test Seti**\n",
        "\n",
        "Modelin temel doğruluğu orijinal test seti üzerinde ölçülmüştür.\n",
        "Amaç: Modelin başlangıçtaki doğruluğunu görmek.\n",
        "Sonuç: Gerçek doğruluk: 55.23%\n",
        "\n",
        "**Manipüle Edilmiş Test Seti (Kontrast + Döndürme)**\n",
        "\n",
        "Görseller üzerinde kontrast artırma ve döndürme gibi manipülasyonlar yapılmıştır.\n",
        "\n",
        "Amaç: Modelin manipülasyonlara karşı ne kadar dayanıklı olduğunu görmek.\n",
        "\n",
        "Sonuç: Manipüle edilmiş test seti doğruluğu: 11.85%\n",
        "\n",
        "\n",
        "**Renk Sabitliği Uygulanmış Test Seti**\n",
        "\n",
        "Manipüle edilmiş görsellere renk sabitliği uygulanarak renk dengesinin iyileştirilmesi hedeflenmiştir.\n",
        "\n",
        "Amaç: Görsellerin renk dengesini düzeltmek ve modelin doğruluğunu artırmak.\n",
        "\n",
        "Sonuç: Renk sabitliği uygulanmış test seti doğruluğu: 11.92%\n",
        "\n",
        "📌 **Nihai Sonuçlar**\n",
        "\n",
        "Orijinal Test Seti: Gerçek doğruluk oranı 55.23% iken, modelin performansı oldukça yüksek çıkmıştır.\n",
        "\n",
        "Manipüle Edilmiş Test Seti: Görsellerin manipülasyonu sonrası doğruluk oranı 11.85%'e gerilemiştir. Bu, modelin manipülasyona karşı oldukça duyarlı olduğunu göstermektedir.\n",
        "\n",
        "Renk Sabitliği Uygulaması: Renk sabitliği uygulandıktan sonra doğruluk 11.92%'ye çıkarak, manipülasyona karşı sınırlı bir iyileşme sağlamıştır.\n",
        "\n",
        "Değerlendirme:\n",
        "\n",
        "Modelin manipülasyon sonucundadoğruluk yüzdesinin düştüğünü görüyoruz. Fakat Renk sabitliği uygulaması, manipülasyon sonrası doğruluğu biraz artırmış olsa da, doğruluk oranları hala düşük kalmaktadır.\n",
        "\n",
        "Sonuçlar, modelin görsel manipülasyonlara karşı dayanıklı olmadığını ve renk düzeltme gibi yöntemlerin sınırlı bir iyileşme sağladığını göstermektedir. Bu noktada, modelin daha güçlü hale gelmesi için ek iyileştirme ve geliştirmeler yapılması gerektiğini söyleyebiliriz.\n",
        "\n",
        "Çözüm Önerisi:\n",
        "1-Daha Fazla Veri ve Veri Artırma\n",
        "2-Model Mimarisini İyileştirme\n",
        "3-Modelin Manipülasyona Dayanıklılığını Artırma\n",
        "Başlıca bu iyileştirmeleri yaparak daha iyi sonuçlar elde edebiliriz. Google colab'in oturum çökmelerinden dolayı daha fazla model eğitememekteyim."
      ],
      "metadata": {
        "id": "ymy5lW8BS1_U"
      }
    },
    {
      "cell_type": "markdown",
      "source": [],
      "metadata": {
        "id": "ti4BSFKAUzuH"
      }
    }
  ],
  "metadata": {
    "kernelspec": {
      "display_name": "Python 3",
      "name": "python3"
    },
    "language_info": {
      "pygments_lexer": "ipython3",
      "nbconvert_exporter": "python",
      "version": "3.6.4",
      "file_extension": ".py",
      "codemirror_mode": {
        "name": "ipython",
        "version": 3
      },
      "name": "python",
      "mimetype": "text/x-python"
    },
    "colab": {
      "provenance": [],
      "gpuType": "T4",
      "include_colab_link": true
    },
    "accelerator": "GPU"
  },
  "nbformat": 4,
  "nbformat_minor": 0
}
